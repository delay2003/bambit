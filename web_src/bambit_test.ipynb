{
 "cells": [
  {
   "cell_type": "code",
   "execution_count": 93,
   "metadata": {
    "colab": {
     "base_uri": "https://localhost:8080/",
     "height": 52
    },
    "colab_type": "code",
    "id": "hJ2dkylNs7z_",
    "outputId": "356466cd-b77f-4b23-e56c-2fdc01a27371"
   },
   "outputs": [],
   "source": [
    "import librosa \n",
    "from scipy.io import wavfile as wav\n",
    "import numpy as np\n",
    "import keras"
   ]
  },
  {
   "cell_type": "code",
   "execution_count": 94,
   "metadata": {
    "scrolled": true
   },
   "outputs": [
    {
     "name": "stdout",
     "output_type": "stream",
     "text": [
      "Model: \"sequential_1\"\n",
      "_________________________________________________________________\n",
      "Layer (type)                 Output Shape              Param #   \n",
      "=================================================================\n",
      "dense_1 (Dense)              (None, 256)               10496     \n",
      "_________________________________________________________________\n",
      "activation_1 (Activation)    (None, 256)               0         \n",
      "_________________________________________________________________\n",
      "dropout_1 (Dropout)          (None, 256)               0         \n",
      "_________________________________________________________________\n",
      "dense_2 (Dense)              (None, 256)               65792     \n",
      "_________________________________________________________________\n",
      "activation_2 (Activation)    (None, 256)               0         \n",
      "_________________________________________________________________\n",
      "dropout_2 (Dropout)          (None, 256)               0         \n",
      "_________________________________________________________________\n",
      "dense_3 (Dense)              (None, 10)                2570      \n",
      "_________________________________________________________________\n",
      "activation_3 (Activation)    (None, 10)                0         \n",
      "=================================================================\n",
      "Total params: 78,858\n",
      "Trainable params: 78,858\n",
      "Non-trainable params: 0\n",
      "_________________________________________________________________\n"
     ]
    }
   ],
   "source": [
    "# 가중치와 옵티마이저를 포함하여 정확히 동일한 모델을 다시 생성합니다\n",
    "model = keras.models.load_model('saved_models/weights.best.basic_mlp.hdf5')\n",
    "model.summary()"
   ]
  },
  {
   "cell_type": "code",
   "execution_count": 95,
   "metadata": {},
   "outputs": [],
   "source": [
    "from sklearn.preprocessing import LabelEncoder\n",
    "from keras.utils import to_categorical\n",
    "import numpy as np\n",
    "\n",
    "# Convert features and corresponding classification labels into numpy arrays\n",
    "X = np.load(\"/home/ubuntu/npy_files/X.npy\")\n",
    "y = np.load(\"/home/ubuntu/npy_files/y.npy\")\n",
    "\n",
    "# Encode the classification labels\n",
    "le = LabelEncoder()\n",
    "yy = to_categorical(le.fit_transform(y))"
   ]
  },
  {
   "cell_type": "code",
   "execution_count": 96,
   "metadata": {
    "colab": {},
    "colab_type": "code",
    "id": "6uZgeZsU38G4"
   },
   "outputs": [],
   "source": [
    "def extract_feature(file_name):\n",
    "   \n",
    "    try:\n",
    "        audio_data, sample_rate = librosa.load(file_name, res_type='kaiser_fast') \n",
    "        mfccs = librosa.feature.mfcc(y=audio_data, sr=sample_rate, n_mfcc=40)\n",
    "        mfccsscaled = np.mean(mfccs.T,axis=0)\n",
    "        \n",
    "    except Exception as e:\n",
    "        print(\"Error encountered while parsing file: \", file)\n",
    "        return None, None\n",
    "\n",
    "    return np.array([mfccsscaled])"
   ]
  },
  {
   "cell_type": "code",
   "execution_count": 97,
   "metadata": {
    "colab": {},
    "colab_type": "code",
    "id": "7hDtklbG3f8A"
   },
   "outputs": [],
   "source": [
    "def print_class(file_name):\n",
    "    prediction_feature = extract_feature(file_name) \n",
    "\n",
    "    predicted_vector = model.predict_classes(prediction_feature)\n",
    "    predicted_class = le.inverse_transform(predicted_vector) \n",
    "    print(\"The predicted class is:\", predicted_class[0], '\\n') \n",
    "\n",
    "    predicted_proba_vector = model.predict_proba(prediction_feature) \n",
    "    predicted_proba = predicted_proba_vector[0]\n",
    "    for i in range(len(predicted_proba)): \n",
    "        category = le.inverse_transform(np.array([i]))\n",
    "        print(category[0], \"\\t\\t : \", format(predicted_proba[i], '.32f') )\n",
    "    return predicted_class[0]"
   ]
  },
  {
   "cell_type": "code",
   "execution_count": 98,
   "metadata": {
    "colab": {},
    "colab_type": "code",
    "id": "AqzVSYkOOa_s"
   },
   "outputs": [],
   "source": [
    "def print_noise_result(file_name):\n",
    "    prediction_feature = extract_feature(file_name) \n",
    "\n",
    "    predicted_vector = model.predict_classes(prediction_feature)\n",
    "    predicted_class = le.inverse_transform(predicted_vector) \n",
    "    if predicted_class[0] == 'children_playing':\n",
    "        noise_result = 'noise'\n",
    "    elif predicted_class[0] == 'siren':\n",
    "        noise_result = 'siren'\n",
    "    else:\n",
    "        noise_result = 'etc'\n",
    "    \n",
    "    print(\"The predicted class is:\", predicted_class[0], '\\n') \n",
    "    print(\"The noise result is:\", noise_result, '\\n') \n",
    "\n",
    "#    predicted_proba_vector = model.predict_proba(prediction_feature) \n",
    " #   predicted_proba = predicted_proba_vector[0]\n",
    "  #  for i in range(len(predicted_proba)): \n",
    "   #     category = le.inverse_transform(np.array([i]))\n",
    "    #    print(category[0], \"\\t\\t : \", format(predicted_proba[i], '.32f') )\n",
    "        \n",
    "    return noise_result"
   ]
  },
  {
   "cell_type": "code",
   "execution_count": 99,
   "metadata": {
    "colab": {
     "base_uri": "https://localhost:8080/",
     "height": 228
    },
    "colab_type": "code",
    "id": "0O9bpQ3m51YK",
    "outputId": "742be8fc-267a-450b-99d1-36d415d092ca"
   },
   "outputs": [
    {
     "name": "stdout",
     "output_type": "stream",
     "text": [
      "The predicted class is: children_playing \n",
      "\n",
      "air_conditioner \t\t :  0.00155912176705896854400634765625\n",
      "car_horn \t\t :  0.00000041178518017659371253103018\n",
      "children_playing \t\t :  0.88746505975723266601562500000000\n",
      "dog_bark \t\t :  0.01371119543910026550292968750000\n",
      "drilling \t\t :  0.00013054620649199932813644409180\n",
      "engine_idling \t\t :  0.00000175551883785374229773879051\n",
      "gun_shot \t\t :  0.09615865349769592285156250000000\n",
      "jackhammer \t\t :  0.00000000108301601020599491675966\n",
      "siren \t\t :  0.00028599920915439724922180175781\n",
      "street_music \t\t :  0.00068734365049749612808227539062\n"
     ]
    },
    {
     "data": {
      "text/plain": [
       "'children_playing'"
      ]
     },
     "execution_count": 99,
     "metadata": {},
     "output_type": "execute_result"
    }
   ],
   "source": [
    "# Class: test dog\n",
    "\n",
    "filename = '/home/ubuntu/wav/sound.wav' \n",
    "print_class(filename)"
   ]
  },
  {
   "cell_type": "code",
   "execution_count": 100,
   "metadata": {},
   "outputs": [
    {
     "name": "stdout",
     "output_type": "stream",
     "text": [
      "The predicted class is: children_playing \n",
      "\n",
      "air_conditioner \t\t :  0.00155912176705896854400634765625\n",
      "car_horn \t\t :  0.00000041178518017659371253103018\n",
      "children_playing \t\t :  0.88746505975723266601562500000000\n",
      "dog_bark \t\t :  0.01371119543910026550292968750000\n",
      "drilling \t\t :  0.00013054620649199932813644409180\n",
      "engine_idling \t\t :  0.00000175551883785374229773879051\n",
      "gun_shot \t\t :  0.09615865349769592285156250000000\n",
      "jackhammer \t\t :  0.00000000108301601020599491675966\n",
      "siren \t\t :  0.00028599920915439724922180175781\n",
      "street_music \t\t :  0.00068734365049749612808227539062\n",
      "The predicted class is: children_playing \n",
      "\n",
      "The noise result is: noise \n",
      "\n",
      "children_playing\n",
      "noise\n",
      "Tue Jan 21 11:37:39 2020\n"
     ]
    }
   ],
   "source": [
    "import os.path, time\n",
    "class_name = print_class(filename)\n",
    "noise_result = print_noise_result(filename)\n",
    "time = time.ctime(os.path.getmtime(filename))\n",
    "\n",
    "print(class_name)\n",
    "print(noise_result)\n",
    "print(time)"
   ]
  },
  {
   "cell_type": "code",
   "execution_count": 101,
   "metadata": {},
   "outputs": [],
   "source": [
    "import csv\n",
    "with open('/home/ubuntu/noisedata.csv', 'a') as newFile:\n",
    "    newFileWriter = csv.writer(newFile)\n",
    "    newFileWriter.writerow(['용산구12-1891', noise_result, class_name, time])"
   ]
  },
  {
   "cell_type": "code",
   "execution_count": 102,
   "metadata": {},
   "outputs": [
    {
     "name": "stdout",
     "output_type": "stream",
     "text": [
      "﻿STLNUM,NRESULT,NNAME,TIME\r",
      "\r\n",
      "용산구12-1891,noise,children_playing,2020-01-21 20:25\r",
      "\r\n",
      "강남구203-243,siren,siren,2020-01-21 21:02\r",
      "\r\n",
      "중구323-62,noise,children_playing,2020-01-21 21:28\r",
      "\r\n",
      "용산구12-1891,noise,children_playing,2020-01-21 22:33\r",
      "\r\n",
      "용산구12-1891,etc,car_horn,2020-01-21 23:45\r",
      "\r\n",
      "강남구203-243,etc,dog_bark,2020-01-21 23:46\r",
      "\r\n",
      "중구323-62,noise,children_playing,2020-01-21 23:55\r",
      "\r\n",
      "중구323-62,noise,children_playing,2020-01-22 0:02\r",
      "\r\n",
      "중구323-62,etc,street_music,2020-01-22 0:05\r",
      "\r\n",
      "중구323-62,noise,children_playing,2020-01-22 0:10\r",
      "\r\n",
      "용산구12-1891,0,dog_bark,time\r",
      "\r\n",
      "용산구12-1891,etc,dog_bark,time\r",
      "\r\n",
      "용산구12-1891,etc,dog_bark,Tue Jan 21 10:39:59 2020\r",
      "\r\n",
      "용산구12-1891,noise,children_playing,Tue Jan 21 11:37:39 2020\r",
      "\r\n"
     ]
    }
   ],
   "source": [
    "!cat /home/ubuntu/noisedata.csv"
   ]
  },
  {
   "cell_type": "code",
   "execution_count": null,
   "metadata": {},
   "outputs": [],
   "source": []
  }
 ],
 "metadata": {
  "accelerator": "GPU",
  "colab": {
   "collapsed_sections": [],
   "name": "0120bambit.ipynb",
   "provenance": []
  },
  "kernelspec": {
   "display_name": "p3",
   "language": "python",
   "name": "p3"
  },
  "language_info": {
   "codemirror_mode": {
    "name": "ipython",
    "version": 3
   },
   "file_extension": ".py",
   "mimetype": "text/x-python",
   "name": "python",
   "nbconvert_exporter": "python",
   "pygments_lexer": "ipython3",
   "version": "3.6.8"
  }
 },
 "nbformat": 4,
 "nbformat_minor": 1
}
